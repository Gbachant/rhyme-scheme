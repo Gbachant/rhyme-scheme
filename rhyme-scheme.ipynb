{
 "cells": [
  {
   "cell_type": "code",
   "execution_count": 1,
   "metadata": {
    "collapsed": true
   },
   "outputs": [],
   "source": [
    "import pylyrics3 as pl\n",
    "import poetrytools as pt\n",
    "import pandas as pd"
   ]
  },
  {
   "cell_type": "code",
   "execution_count": 8,
   "metadata": {
    "scrolled": true
   },
   "outputs": [],
   "source": [
    "the_kinks = pl.get_artist_lyrics('broadcast', albums=True)\n",
    "\n"
   ]
  },
  {
   "cell_type": "raw",
   "metadata": {},
   "source": []
  },
  {
   "cell_type": "code",
   "execution_count": 13,
   "metadata": {
    "scrolled": false
   },
   "outputs": [],
   "source": [
    "x = the_kinks['Haha Sound (2003)']"
   ]
  },
  {
   "cell_type": "code",
   "execution_count": 14,
   "metadata": {
    "scrolled": true
   },
   "outputs": [
    {
     "name": "stdout",
     "output_type": "stream",
     "text": [
      "Colour Me In\n",
      "Pendulum\n",
      "Before We Begin\n",
      "Valerie\n",
      "Man Is Not A Bird\n",
      "Minim\n",
      "Lunch Hour Pops\n",
      "Black Umbrellas\n",
      "Ominous Cloud\n",
      "Distorsion\n",
      "Oh How I Miss You\n",
      "The Little Bell\n",
      "Winter Now\n",
      "Hawk\n"
     ]
    }
   ],
   "source": [
    "for i in x:\n",
    "    print(i)"
   ]
  },
  {
   "cell_type": "code",
   "execution_count": 31,
   "metadata": {
    "scrolled": false
   },
   "outputs": [
    {
     "name": "stdout",
     "output_type": "stream",
     "text": [
      "[['Out', 'in', 'the', 'country'], ['Far', 'from', 'all', 'the', 'soot'], ['And', 'noise', 'of', 'the', 'city'], [\"There's\", 'a', 'village', 'green'], [\"It's\", 'been', 'a', 'long', 'time'], ['Since', 'I', 'last', 'set', 'eyes'], ['On', 'the', 'church', 'with', 'the', 'steeple'], ['Down', 'by', 'the', 'village', 'green'], [\"'Twas\", 'there', 'I', 'met', 'a', 'girl', 'called', 'Daisy'], ['And', 'kissed', 'her', 'by', 'the', 'old', 'oak', 'tree'], ['Although', 'I', 'loved', 'my', 'Daisy', 'I', 'saw', 'fame'], ['And', 'so', 'I', 'left', 'the', 'village', 'green'], ['I', 'miss', 'the', 'village', 'green'], ['And', 'all', 'the', 'simple', 'people'], ['I', 'miss', 'the', 'village', 'green'], ['The', 'church', 'the', 'clock', 'the', 'steeple'], ['I', 'miss', 'the', 'morning', 'dew'], ['Fresh', 'air', 'and', 'Sunday', 'school'], ['And', 'now', 'all', 'the', 'house'], ['Are', 'rare', 'antiquities'], ['American', 'tourists'], ['Flock', 'to', 'see', 'the', 'village', 'green'], ['They', 'snap', 'their', 'photographs', 'and', 'say', 'God', 'darn', 'it'], [\"Isn't\", 'it', 'a', 'pretty', 'scene'], ['And', \"Daisy's\", 'married', 'Tom', 'the', 'grocer', 'boy'], ['And', 'now', 'he', 'owns', 'a', 'grocery'], ['I', 'miss', 'the', 'village', 'green'], ['And', 'all', 'the', 'simple', 'people'], ['I', 'miss', 'the', 'village', 'green'], ['The', 'church', 'the', 'clock', 'the', 'steeple'], ['I', 'miss', 'the', 'morning', 'dew'], ['Fresh', 'air', 'and', 'Sunday', 'school'], ['And', 'I', 'will', 'return', 'there'], ['And', \"I'll\", 'see', 'Daisy'], ['And', \"we'll\", 'sip', 'tea', 'laugh'], ['And', 'talk', 'about', 'the', 'village', 'green'], ['We', 'will', 'laugh', 'and', 'talk', 'about', 'the', 'village', 'green']]\n"
     ]
    }
   ],
   "source": [
    "poem = pt.tokenize(pl.get_song_lyrics('the kinks', 'village green'))\n",
    "print(poem)"
   ]
  },
  {
   "cell_type": "code",
   "execution_count": 33,
   "metadata": {
    "scrolled": true
   },
   "outputs": [],
   "source": [
    "total_rhyme = pt.rhyme_scheme(poem)\n",
    "while ' ' in total_rhyme: total_rhyme.remove(' ')"
   ]
  },
  {
   "cell_type": "code",
   "execution_count": 34,
   "metadata": {
    "collapsed": true
   },
   "outputs": [],
   "source": [
    "def get_rhyme_ratio(poem):\n",
    "    \"\"\"Get the ratio of rhymes to total lines (total unique ending phonemes divided by total number of lines).\"\"\"\n",
    "    total_rhyme = pt.rhyme_scheme(poem)\n",
    "    while ' ' in total_rhyme: total_rhyme.remove(' ')\n",
    "    unique_rhyme = set(total_rhyme)\n",
    "    rhyme_ratio = len(unique_rhyme) / len(total_rhyme)\n",
    "    return rhyme_ratio"
   ]
  },
  {
   "cell_type": "code",
   "execution_count": 35,
   "metadata": {},
   "outputs": [
    {
     "data": {
      "text/plain": [
       "0.2972972972972973"
      ]
     },
     "execution_count": 35,
     "metadata": {},
     "output_type": "execute_result"
    }
   ],
   "source": [
    "get_rhyme_ratio(poem)"
   ]
  },
  {
   "cell_type": "code",
   "execution_count": 24,
   "metadata": {
    "collapsed": true
   },
   "outputs": [],
   "source": [
    "def avg_stanza_length(poem):\n",
    "    \"\"\"Get the average length of a stanza in a poem.\"\"\"\n",
    "    total_stanza = pt.stanza_lengths(poem)\n",
    "    total_stanza = total_stanza.split(',')\n",
    "    total_stanza = list(map(int, total_stanza))\n",
    "    print(total_stanza)\n",
    "    avg_stanza = sum(total_stanza) / len(total_stanza)\n",
    "    return avg_stanza"
   ]
  },
  {
   "cell_type": "code",
   "execution_count": 25,
   "metadata": {},
   "outputs": [
    {
     "name": "stdout",
     "output_type": "stream",
     "text": [
      "[37]\n"
     ]
    },
    {
     "data": {
      "text/plain": [
       "37.0"
      ]
     },
     "execution_count": 25,
     "metadata": {},
     "output_type": "execute_result"
    }
   ],
   "source": [
    "avg_stanza_length(poem)"
   ]
  },
  {
   "cell_type": "code",
   "execution_count": null,
   "metadata": {
    "collapsed": true
   },
   "outputs": [],
   "source": []
  }
 ],
 "metadata": {
  "kernelspec": {
   "display_name": "Python 3",
   "language": "python",
   "name": "python3"
  },
  "language_info": {
   "codemirror_mode": {
    "name": "ipython",
    "version": 3
   },
   "file_extension": ".py",
   "mimetype": "text/x-python",
   "name": "python",
   "nbconvert_exporter": "python",
   "pygments_lexer": "ipython3",
   "version": "3.6.3"
  }
 },
 "nbformat": 4,
 "nbformat_minor": 2
}
