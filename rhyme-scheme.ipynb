{
 "cells": [
  {
   "cell_type": "code",
   "execution_count": 2,
   "metadata": {
    "collapsed": true
   },
   "outputs": [],
   "source": [
    "import PyLyrics as pl\n",
    "import poetrytools as pt"
   ]
  },
  {
   "cell_type": "code",
   "execution_count": 3,
   "metadata": {
    "scrolled": true
   },
   "outputs": [
    {
     "name": "stderr",
     "output_type": "stream",
     "text": [
      "/home/garrett/anaconda3/lib/python3.6/site-packages/bs4/__init__.py:181: UserWarning: No parser was explicitly specified, so I'm using the best available HTML parser for this system (\"lxml\"). This usually isn't a problem, but if you run this code on another system, or in a different virtual environment, it may use a different parser and behave differently.\n",
      "\n",
      "The code that caused this warning is on line 193 of the file /home/garrett/anaconda3/lib/python3.6/runpy.py. To get rid of this warning, change code that looks like this:\n",
      "\n",
      " BeautifulSoup(YOUR_MARKUP})\n",
      "\n",
      "to this:\n",
      "\n",
      " BeautifulSoup(YOUR_MARKUP, \"lxml\")\n",
      "\n",
      "  markup_type=markup_type))\n"
     ]
    },
    {
     "name": "stdout",
     "output_type": "stream",
     "text": [
      "Kinks\n",
      "Kinda Kinks\n",
      "Kinks-Size\n",
      "Kinkdom\n",
      "The Kink Kontroversy\n",
      "Face To Face\n",
      "Something Else By The Kinks\n",
      "Live at Kelvin Hall\n",
      "The Kinks Are The Village Green Preservation Society\n",
      "Arthur (Or The Decline And Fall Of The British Empire)\n",
      "Lola Versus Powerman And The Moneygoround, Part One\n",
      "Percy\n",
      "Muswell Hillbillies\n",
      "The Kink Kronikles\n",
      "Everybody's in Show-Biz\n",
      "The Great Lost Kinks Album\n",
      "Preservation Act 1\n",
      "Preservation Act 2\n",
      "Soap Opera\n",
      "Schoolboys In Disgrace\n",
      "Sleepwalker\n",
      "Misfits\n",
      "Low Budget\n",
      "One For The Road\n",
      "Give The People What They Want\n",
      "State Of Confusion\n",
      "Word Of Mouth\n",
      "Think Visual\n",
      "Come Dancing With The Kinks\n",
      "Live: The Road\n",
      "UK Jive\n",
      "Lost & Found (1986-89)\n",
      "Phobia\n",
      "Waterloo Sunset '94\n",
      "To The Bone\n",
      "The Singles Collection\n",
      "BBC Sessions 1964-1977\n"
     ]
    }
   ],
   "source": [
    "albums = pl.PyLyrics.getAlbums(singer='The Kinks')\n",
    "for a in albums:\n",
    "    print (a) #Each album printed is a Album Object"
   ]
  },
  {
   "cell_type": "code",
   "execution_count": 7,
   "metadata": {
    "scrolled": true
   },
   "outputs": [
    {
     "data": {
      "text/plain": [
       "['CMU',\n",
       " 'POSSIBLE_METRES',\n",
       " 'POSSIBLE_RHYMES',\n",
       " 'POSSIBLE_STANZAS',\n",
       " '__builtins__',\n",
       " '__cached__',\n",
       " '__doc__',\n",
       " '__file__',\n",
       " '__loader__',\n",
       " '__name__',\n",
       " '__package__',\n",
       " '__path__',\n",
       " '__spec__',\n",
       " 'ascii_lowercase',\n",
       " 'codecs',\n",
       " 'count_syllables',\n",
       " 'countsyl',\n",
       " 'defaultdict',\n",
       " 'distance',\n",
       " 'get_syllables',\n",
       " 'guess_form',\n",
       " 'guess_metre',\n",
       " 'guess_rhyme_type',\n",
       " 'guess_stanza_type',\n",
       " 'json',\n",
       " 'json_file',\n",
       " 'levenshtein',\n",
       " 'num_vowels',\n",
       " 'os',\n",
       " 'poetics',\n",
       " 'print_function',\n",
       " 'rhyme_scheme',\n",
       " 'rhymes',\n",
       " 'scanscion',\n",
       " 'simpletokenizer',\n",
       " 'stanza_lengths',\n",
       " 'stress',\n",
       " 'sys',\n",
       " 'tokenize']"
      ]
     },
     "execution_count": 7,
     "metadata": {},
     "output_type": "execute_result"
    }
   ],
   "source": [
    "dir(pt)"
   ]
  },
  {
   "cell_type": "code",
   "execution_count": 4,
   "metadata": {
    "scrolled": true
   },
   "outputs": [
    {
     "name": "stdout",
     "output_type": "stream",
     "text": [
      "A long, long time ago\n",
      "In the land of idiot boys\n",
      "There live a cat, a phenomenal cat\n",
      "Who loved to wallow all day\n",
      "\n",
      "No one bothered him\n",
      "As he sat, content in his tree\n",
      "He just lived to eat 'cause it kept him fat\n",
      "And that's how he wanted to stay\n",
      "\n",
      "Though he was big and fat\n",
      "All the world was good to him\n",
      "And he pointed out on the map\n",
      "All the places he had been\n",
      "Cowes, Sardinia, Kathmandu\n",
      "The Scilley Isles and Sahara, too\n",
      "\n",
      "Fum, fum, diddle-um di\n",
      "La la la la, la-la la la\n",
      "La la la la, la-la la la la\n",
      "La la la la-la la la\n",
      "\n",
      "Once when he was thin\n",
      "He had flown to old Hong Kong\n",
      "And had learned the secret of life\n",
      "And the sea and the sky beyond\n",
      "So he gave up his diet and sat in a tree\n",
      "And ate himself through eternity\n",
      "\n",
      "Fum, fum, diddle-um di\n",
      "La la la la la-la la la\n",
      "La la la la, la-la la la la\n",
      "La la la la-la la la\n",
      "\n",
      "Fum, fum, diddle-um di\n",
      "Fum, fum, diddle-um di\n"
     ]
    },
    {
     "name": "stderr",
     "output_type": "stream",
     "text": [
      "/home/garrett/anaconda3/lib/python3.6/site-packages/bs4/__init__.py:181: UserWarning: No parser was explicitly specified, so I'm using the best available HTML parser for this system (\"lxml\"). This usually isn't a problem, but if you run this code on another system, or in a different virtual environment, it may use a different parser and behave differently.\n",
      "\n",
      "The code that caused this warning is on line 193 of the file /home/garrett/anaconda3/lib/python3.6/runpy.py. To get rid of this warning, change code that looks like this:\n",
      "\n",
      " BeautifulSoup(YOUR_MARKUP})\n",
      "\n",
      "to this:\n",
      "\n",
      " BeautifulSoup(YOUR_MARKUP, \"lxml\")\n",
      "\n",
      "  markup_type=markup_type))\n"
     ]
    }
   ],
   "source": [
    "a = pl.PyLyrics.getLyrics('The Kinks','Phenomenal Cat')\n",
    "print(a)"
   ]
  },
  {
   "cell_type": "code",
   "execution_count": 5,
   "metadata": {
    "scrolled": false
   },
   "outputs": [],
   "source": [
    "poem = pt.tokenize(a)"
   ]
  },
  {
   "cell_type": "code",
   "execution_count": 16,
   "metadata": {
    "scrolled": true
   },
   "outputs": [],
   "source": [
    "total_rhyme = pt.rhyme_scheme(poem)\n",
    "while ' ' in total_rhyme: total_rhyme.remove(' ')"
   ]
  },
  {
   "cell_type": "code",
   "execution_count": 17,
   "metadata": {},
   "outputs": [
    {
     "data": {
      "text/plain": [
       "['X',\n",
       " 'X',\n",
       " 'a',\n",
       " 'b',\n",
       " 'c',\n",
       " 'd',\n",
       " 'a',\n",
       " 'b',\n",
       " 'a',\n",
       " 'c',\n",
       " 'X',\n",
       " 'e',\n",
       " 'X',\n",
       " 'X',\n",
       " 'd',\n",
       " 'f',\n",
       " 'f',\n",
       " 'f',\n",
       " 'e',\n",
       " 'X',\n",
       " 'X',\n",
       " 'X',\n",
       " 'd',\n",
       " 'X',\n",
       " 'd',\n",
       " 'F',\n",
       " 'f',\n",
       " 'f',\n",
       " 'X',\n",
       " 'd',\n",
       " 'd']"
      ]
     },
     "execution_count": 17,
     "metadata": {},
     "output_type": "execute_result"
    }
   ],
   "source": [
    "total_rhyme"
   ]
  },
  {
   "cell_type": "code",
   "execution_count": 18,
   "metadata": {
    "collapsed": true
   },
   "outputs": [],
   "source": [
    "unique_rhyme = set(total_rhyme)"
   ]
  },
  {
   "cell_type": "code",
   "execution_count": 19,
   "metadata": {},
   "outputs": [
    {
     "data": {
      "text/plain": [
       "{'F', 'X', 'a', 'b', 'c', 'd', 'e', 'f'}"
      ]
     },
     "execution_count": 19,
     "metadata": {},
     "output_type": "execute_result"
    }
   ],
   "source": [
    "unique_rhyme\n"
   ]
  },
  {
   "cell_type": "code",
   "execution_count": 22,
   "metadata": {},
   "outputs": [],
   "source": [
    "rhyme_ratio = len(unique_rhyme) / len(total_rhyme)"
   ]
  },
  {
   "cell_type": "code",
   "execution_count": 23,
   "metadata": {},
   "outputs": [
    {
     "data": {
      "text/plain": [
       "0.25806451612903225"
      ]
     },
     "execution_count": 23,
     "metadata": {},
     "output_type": "execute_result"
    }
   ],
   "source": [
    "rhyme_ratio"
   ]
  },
  {
   "cell_type": "code",
   "execution_count": 25,
   "metadata": {
    "collapsed": true
   },
   "outputs": [],
   "source": [
    "def get_rhyme_ratio(poem):\n",
    "    \"\"\"G \"\"\"\n",
    "    total_rhyme = pt.rhyme_scheme(poem)\n",
    "    while ' ' in total_rhyme: total_rhyme.remove(' ')\n",
    "    unique_rhyme = set(total_rhyme)\n",
    "    rhyme_ratio = len(unique_rhyme) / len(total_rhyme)"
   ]
  },
  {
   "cell_type": "code",
   "execution_count": null,
   "metadata": {
    "collapsed": true
   },
   "outputs": [],
   "source": []
  }
 ],
 "metadata": {
  "kernelspec": {
   "display_name": "Python 3",
   "language": "python",
   "name": "python3"
  },
  "language_info": {
   "codemirror_mode": {
    "name": "ipython",
    "version": 3
   },
   "file_extension": ".py",
   "mimetype": "text/x-python",
   "name": "python",
   "nbconvert_exporter": "python",
   "pygments_lexer": "ipython3",
   "version": "3.6.3"
  }
 },
 "nbformat": 4,
 "nbformat_minor": 2
}
