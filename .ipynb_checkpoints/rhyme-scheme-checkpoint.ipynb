{
 "cells": [
  {
   "cell_type": "code",
   "execution_count": 1,
   "metadata": {
    "collapsed": true
   },
   "outputs": [],
   "source": [
    "import pylyrics3 as pl\n",
    "import poetrytools as pt\n",
    "import pandas as pd"
   ]
  },
  {
   "cell_type": "code",
   "execution_count": 102,
   "metadata": {
    "collapsed": true,
    "scrolled": true
   },
   "outputs": [],
   "source": [
    "artist = pl.get_artist_lyrics('broadcast', albums=True)\n",
    "\n"
   ]
  },
  {
   "cell_type": "code",
   "execution_count": 103,
   "metadata": {},
   "outputs": [
    {
     "name": "stdout",
     "output_type": "stream",
     "text": [
      "defaultdict(<class 'dict'>, {'Work And Non Work (1997)': {'Accidentals': \"Under the strain something's got to break \\n I don't think this plunge can take my weight \\n I've been up this tree all the time you've been looking for me \\n And you will not sleep or try to believe when there's no guarantee\", 'The Book Lovers': \"Lines and lines \\n Of the spines \\n Coloured everyone \\n Down the aisles \\n Along the titles \\n Where you are your eyes \\n Read with your eyes \\n Read the sign above the door \\n It's not for everyone \\n Makes you feel \\n Individual \\n Pages are one \\n But that you ignore \\n Read the sign above the door \\n You're on like anyone \\n Down the aisles \\n Along the titles \\n Where you are your eyes \\n Read with your eyes \\n Read the sign above the door \\n It's not for everyone\", 'Message From Home': \"I hope that you kept the note \\n That I left for you to read \\n Or did you throw it away \\n For passers by to stop and see \\n And nothing can account \\n For reasons why I'd be so mean \\n Why do I open my mouth \\n Where I know silence should have been \\n Now the leaves are off the trees \\n The view is clear this time of year \\n And as I watch as you go out \\n I see the breath sigh from your mouth \\n And nothing can account \\n For reasons why I'd be so mean \\n Why do I open my mouth \\n Where I know silence should have been \\n You never kept the note \\n That I left for you to read \\n I know you threw it away \\n I saw it blow around the streets \\n And nothing can account \\n For reasons why I'd be so mean \\n Why do I open my mouth \\n Where I know silence should have been\", 'Phantom': False, \"We've Got Time\": \"You and I \\n Got something, why don't we try \\n What fools cannot buy \\n What lives cannot hide \\n You wrote your name \\n In silver light \\n The question still unanswered \\n Just in case it's not right \\n We've got time to work it out \\n We've got what numbers cannot have \\n Who knows, we'll work this rhythm out \\n Miracle man \\n Possessing all that you can \\n Will you change the circumstance \\n Let it happen by chance \\n You wrote your name \\n In silver light \\n The question still unanswered \\n Just in case it's not right \\n We've got time to work it out \\n We've got what numbers cannot have \\n Who knows, we'll work this rhythm out \\n We've got time to work it out \\n We've got what numbers cannot have \\n Who knows, we'll work this rhythm out\", 'Living Room': \"You can see in miniature \\n Everything is so small \\n Close to the ground, you have found \\n There's no need to worry at all. \\n We could go to the cinema \\n Where everything would be so tall \\n But you hang around \\n The man that you've seen around town \\n There's nothing to do, since you \\n Broke up from school. \\n We could go into the cinema \\n Where everything would be so tall \\n But you hang around \\n The man you've seen around town \\n There's nothing to do, since you \\n Broke up from school \\n Ah, Ah, Ah\", 'According To No Plan': \"Oh, and I found myself lost \\n Looked but nowhere to belong \\n First status I achieve \\n Holds nothing I believe \\n And we drift on and among \\n According to no plan \\n And I don't know where we are \\n Can't say what we're affected by \\n Something has our speed \\n Leaves us open to defeat \\n And we drift on and among \\n According to no plan \\n First status I achieve \\n Holds nothing I believe \\n And we drift on and among \\n According to no plan\", 'The World Backwards': \"As we know, things aren't grow \\n What's next is close at hand \\n Some prefer to look backwards \\n Although they are the world. \\n Ah, Ah, Ah \\n I'm prepared for what's to come \\n Pick numbers from a bun \\n My choice of words is so random \\n I talk because I can \\n Ah, Ah, Ah \\n Plunder time, see what we find \\n To take back to the house \\n But everything has a patenting \\n And belongs to someone else \\n Ah, Ah, Ah\", 'Lights Out': \"I'll show you for example \\n A situation that's like winter \\n I'm not complaining about night time \\n It's harder in the morning \\n My room's too small for parties \\n Too spacious when you're lonely \\n So books can replace friends \\n That's as long as you like reading \\n Turn the lights out when you're leaving \\n I want to watch the car park empty \\n It's easy when there's strangers to wave goodbye \\n My brother's back off holiday \\n He's been chasing girls in Spain \\n He said he'd bring me a guitar \\n Which I said could bring me fame \\n I remember your excitement \\n Choosing pictures for your wall \\n And now you've seen them oh so often \\n You hardly see them any more \\n Turn the lights out when you're leaving \\n I want to watch the car park empty \\n It's easy when there's strangers to wave goodbye \\n I remember your excitement \\n Choosing pictures for your wall \\n And now you've seen them oh so often \\n You hardly see them any more \\n Turn the lights out when you're leaving \\n I want to watch the car park empty \\n It's easy when there's strangers to wave goodbye\"}, 'The Noise Made by People (2000)': {'Long Was The Year': \"Long was the year, will you stay, now you're here \\n Be like the sun never gone \\n Sleep long and fast, let the past, be the past \\n You're like the snow never know \\n Long was the path, will you stay now, you're back \\n Be like the sun never gone\", 'Unchanging Window': \"Attention senses, sorrow's song \\n Forboding phrases, notes lie long \\n Frame this sky unchanging window \\n Blown open by unchanging wind \\n Claim it quick 'cause sorrow wants it \\n Snatch the breath before it sings \\n Feathers woven, pattern tied \\n With every measure, sorrow flies \\n Frame this sky unchanging window \\n Blown open by unchanging wind \\n Claim it quick 'cause sorrow wants it \\n Snatch the breath before it sings \\n Attention senses, sorrow's song \\n Forboding phrases, notes lie long \\n Frame this sky unchanging window \\n Blown open by unchanging wind \\n Claim it quick 'cause sorrow wants it \\n Snatch the breath before it sings\", 'Minus One': False, \"Come On Let's Go\": \"You won't find it by yourself, you're gonna need some help \\n And you won't fail with me around, come on, let's go \\n I will tell you if you change and who's been saying things \\n It's hard to tell who is real in here, come on, let's go \\n You know who to turn to, now everything's changed, come on, let's go \\n Stop looking for answers in everyone's face, come on, let's go \\n What's the point in wasting time \\n On people that you'll never know, come on, let's go \\n When you're looking for a friend but it's empty at the end \\n When everybody's disappeared you won't be alone \\n If you want I'll compensate, if you over estimate \\n So there's nothing left to fear, you won't be alone \\n You know who to turn to, now everything's changed, come on, let's go \\n Stop looking for answers in everyone's face, come on, let's go \\n What's the point in wasting time \\n On people that you'll never know, come on, let's go \\n You know who to turn to, now everything's changed, come on, let's go \\n Stop looking for answers in everyone's face, come on, let's go \\n What's the point in wasting time on people that you'll never know \\n When you know who to turn to, now everything's changed\", \"Echo's Answer\": \"The wind has gone, the invisible come \\n Your memories are being run \\n The mountain scarred by invisible bars \\n The stillness is on guard \\n Oh, the wind will come, blow answer, echo's answer \\n The mountain mine from invisible time \\n I am next in line \\n The message sent was of discontent \\n From incline to incline \\n Oh, the wind will come, blow answer, echo's answer \\n The wind is near, the invisible hear \\n Come my thoughts away from fear \\n Oh, the wind has come, blow answer, all these echo's\", 'Tower Of Our Tuning': False, 'Papercuts': \"You can't pretend 'cause I can see \\n You're not the boy you used to be \\n Trust me with a secret you can't keep \\n I watch your eyes they shift with doubt \\n So every night when stars come out \\n I try to read your personality \\n The writing for pleasure you wouldn't let me read \\n The things you miss out when you try to mislead \\n You said you wrote a page about me in your diary \\n Your heart a place that no one sees \\n You can't disguise your own unease \\n Trust me with a secret you can't keep \\n The writing for pleasure you wouldn't let me read \\n The things you miss out when you try to mislead \\n You said you wrote a page about me in your diary \\n Don't be so afraid, there's bound to be a place \\n No matter who or where you are, you've got to be willing \\n You've got to be willing \\n The writing for pleasure you wouldn't let me read \\n The things you miss out when you try to mislead \\n You said you wrote a page about me in your diary \\n Don't be so afraid, you're bound to make mistakes \\n No matter who or where you are, you've got to be willing \\n Don't be so afraid, there's bound to be a place \\n No matter who or where you are, you've got to be willing \\n You've got to be willing\", 'You Can Fall': \"To those who hate have cried for no one \\n You can call, you can call \\n To those who talk and wish against me \\n You can call, you can call \\n Late in the evening when it gets dark you can call \\n To those who say they go unbeaten \\n You can fall, you can fall \\n To those who say it's because they're weak \\n You can fall, you can fall \\n Late in the evening when it gets dark you can fall \\n You can call, you can call \\n You can call, you can call\", 'Look Outside': 'I look outside and wherever I go you are there \\n You colour in the everyday wherever I go \\n I look outside and wherever I go you are there \\n You colour in the everyday wherever I go', 'Until Then': \"If you think nothing is yours \\n And if I think everything belongs to me \\n How wrong I'll be, none of us have anything \\n There's a place I have never explored \\n Another world we have yet to conquer \\n And until then none of us have anything \\n If you think nothing is yours \\n And if I think everything belongs to me \\n How wrong I'll be, none of us have anything\", 'City In Progress': \"We're glad that you came \\n We need someone to look up to \\n Show us the way cause some say \\n We've been using the wrong tools \\n Don't say that we'll pale into the background \\n Don't say that we'll fail even if luck's around \\n Pressure from above and below \\n None of us know who we are \\n Since finding a mirror in words \\n Some of us have lost heart \\n Don't say that we'll pale into the background \\n Don't say that we'll fail even if luck's around \\n We're glad that you're here \\n We need someone to relate to \\n Show us the way 'cause we need \\n A place to escape to \\n Don't say that we'll pale into the background \\n Don't say that we'll fail even if luck's around\", 'Dead The Long Year': False}, 'Haha Sound (2003)': {'Colour Me In': \"I am grey, still on the page \\n Oh colour me in \\n Just an outline, sketchy but fine \\n Oh colour me in \\n If green is chasing the hills over miles \\n If blue is pursuing the sky \\n If the red of your heart doesn't mind \\n Where to begin to colour me in \\n Something new and nothing to do \\n I'm just the idea \\n I must be real cause somehow I feel \\n That I'm just the idea \\n Let's share the blue of the towering sky \\n The green of the hills that run by \\n Leave the red of your heart to decide \\n If you cannot choose which colour to use \\n I'll always wait, it's never too late \\n To colour me in \\n To colour me in \\n Today or next year \\n I'll always be near \\n If you want to colour me in\", 'Pendulum': \"Captured under hypnosis, faster and faster images \\n Can a meaning be obtained or this mystery explained \\n I'm in orbit held by magnet \\n And the force fields so much closer than love \\n Logic offers no defence underneath this influence \\n While this puzzle of intent holds emotion in suspense \\n I'm in orbit held by magnet \\n And the force fields so much closer than love \\n Caught between the day and night \\n And a knot that pulls too tight \\n I'm in orbit held by magnet \\n And the force fields so much closer than love\", 'Before We Begin': \"Here again, at the end \\n Before the beginning \\n So the salt will spill again \\n Throw it over your shoulder \\n Oh it's in tomorrow \\n Fortune or sorrow \\n Wait you may win \\n I don't mean to show \\n That I know how this goes \\n Before we begin again \\n You may hide on one side \\n And me on the other \\n You may speak but wait for me \\n Should my sentence faulter \\n Oh it's in tomorrow \\n Fortune or sorrow \\n Wait you may win \\n But now it feels empty \\n There's no need in guessing \\n Before we begin again \\n So here we are again \\n Back to the beginning \\n So the salt will spill again \\n Throw it over your shoulder \\n Oh it's in tomorrow \\n Fortune or sorrow \\n Wait you may win \\n But now it feels empty \\n There's no need in guessing \\n Before we begin again\", 'Valerie': 'Inside the mask another disguise \\n I fall to sleep before closing my eyes \\n Tiredness draws, in my head a cartoon \\n Sun at the window, good things coming soon \\n Shake your earrings over my head \\n Lay down your dreams on my pillow before bed \\n The silence of ice at the borders of day \\n Sun in my face will not keep them away \\n Sinking into the white of your room \\n Sky through the curtain, good things coming soon \\n Shake your earrings over my head \\n Lay down your dreams on my pillow before bed \\n Shake your earrings over my head \\n Lay down your dreams on my pillow before bed', 'Man Is Not A Bird': 'The sky is faint, there tears remain in me \\n The rain has stopped falling \\n The fading light falls barely white in me \\n The night has stopped calling \\n I will not lament with the sky \\n No longer feel night on the inside \\n Here in this room, no more a tomb \\n Thoughts of you conclude without ending \\n Caution will keep, worries still speak \\n Fewer the leaves are descending \\n I will not lament with the sky \\n No longer feel night on the inside \\n Here in this room, no more a tomb \\n Thoughts of you conclude without ending \\n The lonely distance and time \\n The only tears willing outside \\n I will not lament with the sky \\n No longer feel night on the inside', 'Minim': 'How sweet the bells \\n How sweet the bells \\n But what can they tell \\n Of heaven and hell \\n Too brief the sound \\n Too brief they sound \\n And yet they resound \\n With the world \\n Ah... \\n Menschen und Wind ändern geschwind \\n Ah... \\n Menschen und Wind ändern geschwind', 'Lunch Hour Pops': \"I wait on the stairs for a break in my mind \\n Let the balloons go outside \\n Let the balloons go outside \\n I wait on the stairs for my thoughts to align \\n You are the sun in my mind \\n You are the sun in my mind \\n Clouds rock like a ship at sea \\n Sooth the waves of injury \\n Clouds rock like a ship at sea \\n Sooth the waves of injury \\n I wait on the stairs, there's a view in my mind \\n Objects of love in the sky \\n Objects of love in the sky \\n I wait on the stairs for my thoughts to be kind \\n What better view will I find \\n What better view will I find \\n Inflated with transparency \\n Float away my injury \\n Inflated with transparency \\n Float away my injury \\n Let the balloons go outside \\n Let the balloons go outside \\n I wait on the stairs for a break in my mind \\n Let the balloons go outside \\n Let the balloons go outside \\n Let the balloons go outside...\", 'Black Umbrellas': False, 'Ominous Cloud': \"Oh let me sail away \\n On the beach and on the earth \\n The boats on the sea are blissfully freee \\n They will come to no harm \\n 'Cause the waves are so calm \\n Oh let me think a while \\n To the playground of your smile \\n The wind through the flame \\n Whistles your name \\n Though you said good bye \\n You did not leave my mind \\n Oh I've got to get away \\n From this town don't want to face \\n The ominous clouds \\n But not now \\n Not now \\n Not now \\n I've got to find a place \\n Be myself and learn to face \\n The ominous clouds \\n But not now \\n Not now \\n Not now \\n I want to sail away \\n Want to look back on the day \\n And hide with my hand \\n What's left of the land \\n Though I leave it behind \\n It will not leave my mind \\n Oh I've got to get away \\n From this town don't want to face \\n The ominous clouds \\n Oh not now \\n Not now \\n Not now \\n I've got to find a place \\n Be myself and learn to face \\n The ominous clouds \\n But not now \\n Not now \\n Not now\", 'Distorsion': False, 'Oh How I Miss You': 'Oh How I Miss You \\n (Repeated)', 'The Little Bell': \"The little bell lies on the ground \\n Although it tries it cannot sound \\n It used to ring across the air \\n Its sweetened tone would linger there \\n But from a careless hand it rocked \\n Its shell is only made of crock \\n Although it lies there split in two \\n It still tries to ring out to you \\n Now deep inside my wooden clock \\n There is a tick but not a tock \\n Although into the room it chimes \\n It only tells me half the time \\n Why do you leave me so confused \\n I'll miss my bus, my job I'll lose \\n Oh what is wrong my wooden clock \\n It breaks my heart to see you stop\", 'Winter Now': \"Snow lies all around \\n There's no sense of doubt \\n You are the only one \\n To keep me sane when all is wrong \\n Oh my heart \\n Waits in winter now \\n Deep in every dream \\n Though you're far from me \\n There in the deepest snow \\n I only wanted you to know \\n Oh my heart \\n Waits in winter now \\n Falling quietly \\n There reminding me \\n Though it's just a dream \\n You're closer than you've ever been \\n Oh my heart waits in winter now\", 'Hawk': 'Sow the seeds \\n Of everything to be \\n Safe in sleep \\n I winter in my dreams \\n Speak your words \\n Define your grief for me \\n Out of reach \\n Some things just can not be'}, 'Tender Buttons (2005)': {'I Found The F': 'I found the fragrance separate from the flower \\n In all the logic I was lost \\n I found the fair light blossom to be sour \\n And beneath the soil the real cost \\n You can to me carelessly, I am iris and the lense \\n The bridge adjusting to the water, water, water, water \\n The level inside will rise, a fallen monument lies \\n A prism is only walls \\n My arms will not be bars \\n The well now is your support \\n In autosuggested pathways you are caught \\n You can to me carelessly, I am iris and the lense \\n The bridge adjusting to the water, water, water, water \\n The level inside will rise, a fallen monument lies', 'Black Cat': 'Sapphire her burning eyes, model euphonic paradigms \\n Awkwardness happening to someone you love \\n Awkwardness happening to someone you love \\n The black cat, the black cat, curiouser and curiouser \\n The black cat, the black cat, curiouser and curiouser \\n Shadowing masonic verve follows the pharaoh and the worm \\n Awkwardness happening to someone you love \\n Awkwardness happening to someone you love \\n The black cat, the black cat, curiouser and curiouser \\n The black cat, the black cat, curiouser and curiouser \\n Mirror mirror on the wall into the purring night you call \\n Awkwardness happening to someone you love \\n Awkwardness happening to someone you love \\n The black cat, the black cat, curiouser and curiouser \\n The black cat, the black cat, curiouser and curiouser \\n Awkwardness happening, awkwardness happening', 'Tender Buttons': 'The coal, the coal light, the callous, the caress \\n The comb, the calm, the colour, the cortex \\n The code, the codine, the comma, the context \\n The collector, the green, the fine, the fall, the financer, the dream \\n The fen, the fine, the fin, the defend, the fawn then do \\n The coal, the coal light, the callous, the caress \\n The comb, the calm, the colour, the cortex \\n The code, the codine, the comma, the context \\n The corpse, the likeness \\n Die cut, die cut, die cut, die cut \\n Die cut, die cut, die', \"America's Boy\": \"Quaker toil and Texan oil, rockets on, we're arm in arm \\n NASA nude, you're manly you \\n Oh, American soldier, America's boy \\n American soldier, America's boy \\n Gun me down with yankee power, cock pit tom with army charm \\n The eagle lands army commands \\n Oh, American soldier, America's boy \\n American soldier, America's boy \\n Cowboy corn and bugle horn, miracle son, don't post me on \\n You are dean and me the queen \\n Oh, American soldier, America's boy \\n American soldier, America's boy \\n Oh, American soldier, America's boy \\n American soldier, America's boy \\n America's boy, America's boy\", 'Tears In The Typing Pool': \"Succumb to the line \\n The finishing time \\n The long distance runner \\n Has stopped on the corner \\n But I won't give up \\n Although I've stopped too \\n Before the end of me and you \\n The patchwork explains \\n The land is unchanged \\n Interpret the rooms \\n My tears in the typing pool \\n The letters are sighing \\n The ink is still drying \\n I told you the truth \\n And now I sigh too \\n The page turns on me and you \\n Across that white plain \\n The land is unchanged\", 'Corporeal': \"Under the white chalk \\n Drawn on the black board \\n Drawn on the black board \\n Under the xray \\n I'm just a vertebrate \\n Do that to me \\n Do that to my anatomy \\n Do that to me \\n Do that to my anatomy \\n Corporeal Corporeal \\n We are mankind \\n We are manikin \\n With and without mind \\n With or without Darwin \\n Classify me \\n The strings of my autonomy \\n Classify me \\n The strings of my autonomy \\n Corporeal corporeal \\n A thorny red heart \\n Around a thin arm \\n Inside a white bone \\n The love is inborn \\n Close up to me \\n Up close to my anatomy \\n Close up to me \\n Up close to my autonomy \\n Corporeal corporeal \\n Corporeal\", 'Bit 35': False, 'Arc Of A Journey': \"Clouds float away like iron tools on the moon \\n All my time is in half life \\n Memories over memories \\n Can I see more than I'm programmed to be \\n Constellation of orion \\n A picture with a past, a future so vast \\n A mnemonic game on the arc of a journey \\n I report there once were cities \\n Open academies, avenues and tree \\n Human law, automatic oracles \\n Calendar, the years, verbal hemispheres \\n Constellation of orion \\n The repositioned light, the post atomic night \\n Informing me I'm near the axis of feeling \\n Constellation of orion \\n A picture with a past, a future so vast \\n A mnemonic game on the arc of a journey\", 'Michael A Grammar': \"Michael, Michael, Michael, wake up we're going back to chelmsley wood \\n Michael, Michael, Michael, my feet are dancing can you see them \\n Michael, Michael, Michael, I'll change my hair but inside I'll stay the same \\n Michael, Michael, Michael, I'll draw my lips around my lipstick \\n My feet are dancing so much and I hate that, my feet are dancing so much \\n Ah, see if you're feeling like you're looking for a chance to let go \\n And if you're feeling like you're looking for that change \\n Then let go, let go, let go, let go \\n Michael, Michael, Michael, come on your father was a teddy boy \\n Michael, Michael, Michael, there's nothing written on your fingernails \\n Michael, Michael, Michael, you said remind me not to be myself \\n Michael, Michael, Michael, this is not your saw tooth wave \\n Ah, see if you're feeling like you're looking for a chance to let go \\n And if you're feeling like you're looking for that change \\n Then let go, let go, let go, let go \\n My feet are dancing so much and I hate that, my feet are dancing so much \\n My feet are dancing so much and I hate that, my feet are dancing so much \\n Ah, see if you're feeling like you're looking for a chance to let go \\n And if you're feeling like you're looking for that change \\n Then let go, let go, let go, let go \\n Michael, Michael, Michael, today the old height rise is coming down \\n Michael, Michael, Michael, this is not your saw tooth wave\", 'Subject To The Ladder': \"I'm not pygmalion \\n Hooked by failure \\n Ruled as a juvenile \\n Aged as an infantile \\n Subject to the ladder \\n Ruined by affection \\n Excepted by exception \\n Predicted on a graph \\n Cornered by ritual \\n Diminished by impression \\n Cried out in the lesson \\n Subject to the ladder \\n Subject to the ladder \\n My thoughts are coming through \\n Emptiness follows too \\n A cyclone full on feeling \\n In the silence of the room \\n Defended by defendants \\n Corrected by the pain \\n Inspected by a sadness \\n Exhausted by a game \\n Subject to the ladder \\n Subject to the ladder \\n My thoughts are coming through \\n Emptiness follows too \\n A cyclone full of feeling \\n The silence of the room \\n A picture turning over \\n Jewel in the water \\n Where eco saw reflection \\n Not what it taught her \\n Invaded by the quarrels \\n And I denied the lathe \\n Let me chop down the laurel \\n A goal I won't escape \\n In bullied deception \\n But when the whistle came \\n Esteem had broke infection \\n My torment fought with shame \\n Subject to the ladder \\n Subject to the ladder \\n My thoughts are coming through \\n Emptiness follows too \\n A cyclone full of feeling \\n The silence of the room \\n Subject to the ladder\", 'Evil Is Coming': False, 'Goodbye Girls': \"Endless night laced with time under unreal light with the goodbye girls \\n Pendant heart, counterpart under unreal light with the goodbye girls \\n Fraudulently they love you, think of you \\n You're in a sleepless dream, the insincere \\n Vacantly they listen, giving no emotion \\n Leaving no impression, love you all night, love you all night \\n Honesty, sweet deceit, it's a cut up world with the goodbye girls \\n Love distilled for your guild, feelings superimposed on the goodbye girls \\n Fraudulently they love you, think of you \\n Vacantly they listen, giving no emotion \\n Leaving no impression, love you all night \\n Vacantly they listen, giving no emotion \\n Leaving no impression, love you all night, love you all night \\n Love you all night, love you all night\", 'You And Me In Time': \"You and me in time \\n You and me in time \\n The river flows down \\n The flowers grows up \\n The snow makes no sound \\n On the mountain top \\n You and me in time \\n You and me in time \\n We're saying goodbye \\n We're waving our hands \\n The waves and the tide \\n Move the grains of sand \\n You and me in time\", 'I Found The End': False}, 'The Future Crayon (2006)': {'Illumination': \"Waits the growing stem of time \\n Waits poisonous outside \\n You're seconds within mine \\n Don't memorise the leaves \\n That cover to deceive \\n To make you forget me \\n I'll kill that weed somehow \\n Inside I speak for now \\n Before dust settles down \\n Ah ah \\n La la la, la la la, la la la, la la la \\n Ah \\n Now, the dead who walk in dreams \\n Point south to where you sleep \\n Waste time no more they heed \\n So if it's in our light \\n I speak across the night \\n Walk from your dream to mine \\n Ah ah \\n La la la, la la la, la la la, la la la \\n Ah \\n Ah ah \\n La la la, la la la, la la la, la la la \\n Ah ah \\n La la la, la la la, la la la, la la la \\n Ah\", 'Still Feels Like Tears': \"Ah \\n Ah \\n Seasons mean nothing \\n You went away and I'm falling \\n Even clouds have tried their best to move and give my tears a rest \\n Ah \\n Ah \\n Seasons mean nothing \\n You went away and I'm falling \\n Even when the cold disarms it still feels like there's something wrong \\n Ah \\n Ah \\n Seasons mean nothing \\n You went away and I'm falling \\n Even when the leaves turn brown in sympathy about the ground \\n Ah \\n Ah\", 'Small Song IV': 'Sunlight creeps across your pillow \\n Silver leaf falls from the willow \\n You are so young \\n A flame left from the sun \\n Let the quiet light see the room \\n Shadows clear in the afternoon \\n You are so young \\n A flame left from the sun \\n Sunlight creeps across your pillow \\n Silver leaf falls from the willow \\n You are so young \\n A flame left from the sun \\n Only just begun \\n A flame left from the sun', 'Where Youth And Laughter Go': \"Listen - word one \\n To - word two \\n Let be - be three \\n And forward inside \\n See your bed \\n Lie still and narrow \\n Everything ahead \\n Can not be seen \\n Rain and wrong can \\n Read your thoughts \\n They'll let them know \\n Where youth and laughter go\", 'One Hour Empire?action=edit&redlink=1': None, 'Distant Call': \"Don't let the shadows fall \\n And govern you no more \\n Your thoughts from now begin at this stall \\n I know the stairs descend \\n Voices will not be warm \\n I am your distant call \\n Some words cannot be bound \\n No anchor can be found \\n This land which used \\n Will be too confused \\n And when they shake your hand \\n The ground will break away \\n I'm not made of clay \\n I know the stairs descend \\n And the hours dies away \\n You found reflection there \\n You will not lose your way \\n Oh let the shadows fade \\n I know those second thoughts \\n My time is held on pause \\n I know the stairs descend \\n And the hours dies away \\n You found reflection there \\n And you will not lose your way\", 'Poem Of Dead Song': \"Clear sky will come \\n It's the dark undone \\n Or your wishes \\n Walk Towards you \\n Towards you \\n Clouds will move on \\n May your grey turn blue \\n Your intetions \\n Walk Towards you \\n Towards you\", 'Hammer Without A Master': False, 'Locusts': 'Little yellow lemon tree \\n Cast that yellow to the breeze \\n Serpentine flutterings \\n Yellow, yellow, yellow, yellow, ...', 'Chord Simple': False, \"Dave's Dream?action=edit&redlink=1\": None, 'DDL?action=edit&redlink=1': None, 'Test Area?action=edit&redlink=1': None, 'Unchanging Window / Chord Simple': \"Attention senses \\n Sorrow's song \\n Foreboding phrases \\n Notes lie long \\n Frame this sky unchanging window \\n Blown open by unchanging wind \\n Claim it quick 'cause sorrow wants it \\n Snatch the breath before it sings \\n Feathers woven \\n Pattern tied \\n With every measure \\n Sorrow flies \\n Frame this sky unchanging window \\n Blown open by unchanging wind \\n Claim it quick 'cause sorrow wants it \\n Snatch the breath before it sings\", 'A Man For Atlantis?action=edit&redlink=1': None, 'Minus Two?action=edit&redlink=1': None, 'Violent Playground?action=edit&redlink=1': None, 'Belly Dance?action=edit&redlink=1': None, 'Misc?action=edit&redlink=1': None, 'Stupido?action=edit&redlink=1': None}, 'Investigate Witch Cults of the Radio Age (2009)': {'Intro / Magnetic Tales?action=edit&redlink=1': None, 'The Be Colony': \"The forehead is where the diamond rotates \\n All circles vanish, all circles vanish \\n Burning beyond the logical lake \\n All circles vanish, all circles vanish \\n There are no emotions in my head, disparate sounds (x2) \\n Mercy me, rising high \\n Masses, ashes, in classic glasses in mind \\n The boy and the longing sow the sun \\n Falling, calling, chronal-falling \\n There are no emotions in my head, disparate sounds (x2) \\n Mercy me, rising high \\n Masses, ashes, in classic glasses in mind \\n In today's room with today's view \\n You are going backwards to a child to the death of rebirth \\n Nurser of the leftover numbers, numbers \\n 400 sonnets in reverse, together \\n All circles vanish, all circles vanish \\n All circles vanish, vanish vanish \\n Vanish, vanish \\n The boy and the longing sow the sun \\n Calling, calling, chronal-falling \\n There are no emotions in my head, disparate sounds (x2) \\n Mercy me, rising high \\n Masses, ashes, in classic glasses in mind \\n All circles vanish, all circles vanish\", 'How Do You Get Along Sir??action=edit&redlink=1': None, 'Will You Read Me?action=edit&redlink=1': None, 'Reception Group Therapy?action=edit&redlink=1': None, 'A Quiet Moment?action=edit&redlink=1': None, 'I See, So I See So': 'Magic January \\n You beware and turn your sun tarp free. \\n I see, so I see so. \\n Twist yourself and let the winter flow. \\n Solar on the rise \\n Solar on the heel \\n Solar on the keel \\n Summer, summer, summer, summer', 'You Must Wake?action=edit&redlink=1': None, 'One Million Years Ago?action=edit&redlink=1': None, 'A Seancing Song?action=edit&redlink=1': None, 'Mr Beard You Chatterbox?action=edit&redlink=1': None, 'Drug Party?action=edit&redlink=1': None, 'Libra, The Mirrors Minor Self?action=edit&redlink=1': None, \"Love's Long Listen-In?action=edit&redlink=1\": None, 'We Are After All Here?action=edit&redlink=1': None, \"A Medium's High?action=edit&redlink=1\": None, 'Ritual / Looking In?action=edit&redlink=1': None, 'Make My Sleep His Song?action=edit&redlink=1': None, 'Royal Chant?action=edit&redlink=1': None, 'What I Saw?action=edit&redlink=1': None, 'Let It Begin / Oh Joy?action=edit&redlink=1': None, 'Round And Round And Round?action=edit&redlink=1': None, 'The Be Colony / Dashing Home / What On Earth Took You??action=edit&redlink=1': None}})\n"
     ]
    }
   ],
   "source": [
    "print(artist)"
   ]
  },
  {
   "cell_type": "code",
   "execution_count": 96,
   "metadata": {},
   "outputs": [
    {
     "name": "stdout",
     "output_type": "stream",
     "text": [
      "1\n",
      "1\n",
      "1\n",
      "1\n",
      "1\n",
      "1\n",
      "1\n",
      "1\n",
      "1\n"
     ]
    }
   ],
   "source": []
  },
  {
   "cell_type": "code",
   "execution_count": 101,
   "metadata": {},
   "outputs": [
    {
     "name": "stdout",
     "output_type": "stream",
     "text": [
      "dict_keys(['I Found The F', 'Black Cat', 'Tender Buttons', \"America's Boy\", 'Tears In The Typing Pool', 'Corporeal', 'Bit 35', 'Arc Of A Journey', 'Michael A Grammar', 'Subject To The Ladder', 'Evil Is Coming', 'Goodbye Girls', 'You And Me In Time', 'I Found The End'])\n"
     ]
    }
   ],
   "source": []
  },
  {
   "cell_type": "code",
   "execution_count": 104,
   "metadata": {
    "scrolled": false
   },
   "outputs": [],
   "source": [
    "# x = artist['Haha Sound (2003)']\n",
    "\n",
    "df = pd.DataFrame()\n",
    "df['Artist'] = []\n",
    "df['Album'] = []\n",
    "df['Year'] = []\n",
    "df['Song'] = []\n",
    "df['Rhyme Ratio'] = []"
   ]
  },
  {
   "cell_type": "code",
   "execution_count": 105,
   "metadata": {},
   "outputs": [
    {
     "data": {
      "text/html": [
       "<div>\n",
       "<style scoped>\n",
       "    .dataframe tbody tr th:only-of-type {\n",
       "        vertical-align: middle;\n",
       "    }\n",
       "\n",
       "    .dataframe tbody tr th {\n",
       "        vertical-align: top;\n",
       "    }\n",
       "\n",
       "    .dataframe thead th {\n",
       "        text-align: right;\n",
       "    }\n",
       "</style>\n",
       "<table border=\"1\" class=\"dataframe\">\n",
       "  <thead>\n",
       "    <tr style=\"text-align: right;\">\n",
       "      <th></th>\n",
       "      <th>Artist</th>\n",
       "      <th>Album</th>\n",
       "      <th>Year</th>\n",
       "      <th>Song</th>\n",
       "      <th>Rhyme Ratio</th>\n",
       "    </tr>\n",
       "  </thead>\n",
       "  <tbody>\n",
       "    <tr>\n",
       "      <th>0</th>\n",
       "      <td>NaN</td>\n",
       "      <td>Work And Non Work (1997)</td>\n",
       "      <td>NaN</td>\n",
       "      <td>NaN</td>\n",
       "      <td>NaN</td>\n",
       "    </tr>\n",
       "    <tr>\n",
       "      <th>1</th>\n",
       "      <td>NaN</td>\n",
       "      <td>The Noise Made by People (2000)</td>\n",
       "      <td>NaN</td>\n",
       "      <td>NaN</td>\n",
       "      <td>NaN</td>\n",
       "    </tr>\n",
       "    <tr>\n",
       "      <th>2</th>\n",
       "      <td>NaN</td>\n",
       "      <td>Haha Sound (2003)</td>\n",
       "      <td>NaN</td>\n",
       "      <td>NaN</td>\n",
       "      <td>NaN</td>\n",
       "    </tr>\n",
       "    <tr>\n",
       "      <th>3</th>\n",
       "      <td>NaN</td>\n",
       "      <td>Tender Buttons (2005)</td>\n",
       "      <td>NaN</td>\n",
       "      <td>NaN</td>\n",
       "      <td>NaN</td>\n",
       "    </tr>\n",
       "    <tr>\n",
       "      <th>4</th>\n",
       "      <td>NaN</td>\n",
       "      <td>The Future Crayon (2006)</td>\n",
       "      <td>NaN</td>\n",
       "      <td>NaN</td>\n",
       "      <td>NaN</td>\n",
       "    </tr>\n",
       "    <tr>\n",
       "      <th>5</th>\n",
       "      <td>NaN</td>\n",
       "      <td>Investigate Witch Cults of the Radio Age (2009)</td>\n",
       "      <td>NaN</td>\n",
       "      <td>NaN</td>\n",
       "      <td>NaN</td>\n",
       "    </tr>\n",
       "  </tbody>\n",
       "</table>\n",
       "</div>"
      ],
      "text/plain": [
       "   Artist                                            Album  Year  Song  \\\n",
       "0     NaN                         Work And Non Work (1997)   NaN   NaN   \n",
       "1     NaN                  The Noise Made by People (2000)   NaN   NaN   \n",
       "2     NaN                                Haha Sound (2003)   NaN   NaN   \n",
       "3     NaN                            Tender Buttons (2005)   NaN   NaN   \n",
       "4     NaN                         The Future Crayon (2006)   NaN   NaN   \n",
       "5     NaN  Investigate Witch Cults of the Radio Age (2009)   NaN   NaN   \n",
       "\n",
       "   Rhyme Ratio  \n",
       "0          NaN  \n",
       "1          NaN  \n",
       "2          NaN  \n",
       "3          NaN  \n",
       "4          NaN  \n",
       "5          NaN  "
      ]
     },
     "execution_count": 105,
     "metadata": {},
     "output_type": "execute_result"
    }
   ],
   "source": [
    "# df['Song'] = x\n",
    "df['Album'] = artist.keys()\n"
   ]
  },
  {
   "cell_type": "code",
   "execution_count": 106,
   "metadata": {
    "scrolled": true
   },
   "outputs": [
    {
     "data": {
      "text/html": [
       "<div>\n",
       "<style scoped>\n",
       "    .dataframe tbody tr th:only-of-type {\n",
       "        vertical-align: middle;\n",
       "    }\n",
       "\n",
       "    .dataframe tbody tr th {\n",
       "        vertical-align: top;\n",
       "    }\n",
       "\n",
       "    .dataframe thead th {\n",
       "        text-align: right;\n",
       "    }\n",
       "</style>\n",
       "<table border=\"1\" class=\"dataframe\">\n",
       "  <thead>\n",
       "    <tr style=\"text-align: right;\">\n",
       "      <th></th>\n",
       "      <th>Artist</th>\n",
       "      <th>Album</th>\n",
       "      <th>Year</th>\n",
       "      <th>Song</th>\n",
       "      <th>Rhyme Ratio</th>\n",
       "    </tr>\n",
       "  </thead>\n",
       "  <tbody>\n",
       "    <tr>\n",
       "      <th>0</th>\n",
       "      <td>NaN</td>\n",
       "      <td>Work And Non Work (1997)</td>\n",
       "      <td>NaN</td>\n",
       "      <td>NaN</td>\n",
       "      <td>NaN</td>\n",
       "    </tr>\n",
       "    <tr>\n",
       "      <th>1</th>\n",
       "      <td>NaN</td>\n",
       "      <td>The Noise Made by People (2000)</td>\n",
       "      <td>NaN</td>\n",
       "      <td>NaN</td>\n",
       "      <td>NaN</td>\n",
       "    </tr>\n",
       "    <tr>\n",
       "      <th>2</th>\n",
       "      <td>NaN</td>\n",
       "      <td>Haha Sound (2003)</td>\n",
       "      <td>NaN</td>\n",
       "      <td>NaN</td>\n",
       "      <td>NaN</td>\n",
       "    </tr>\n",
       "    <tr>\n",
       "      <th>3</th>\n",
       "      <td>NaN</td>\n",
       "      <td>Tender Buttons (2005)</td>\n",
       "      <td>NaN</td>\n",
       "      <td>NaN</td>\n",
       "      <td>NaN</td>\n",
       "    </tr>\n",
       "    <tr>\n",
       "      <th>4</th>\n",
       "      <td>NaN</td>\n",
       "      <td>The Future Crayon (2006)</td>\n",
       "      <td>NaN</td>\n",
       "      <td>NaN</td>\n",
       "      <td>NaN</td>\n",
       "    </tr>\n",
       "    <tr>\n",
       "      <th>5</th>\n",
       "      <td>NaN</td>\n",
       "      <td>Investigate Witch Cults of the Radio Age (2009)</td>\n",
       "      <td>NaN</td>\n",
       "      <td>NaN</td>\n",
       "      <td>NaN</td>\n",
       "    </tr>\n",
       "  </tbody>\n",
       "</table>\n",
       "</div>"
      ],
      "text/plain": [
       "   Artist                                            Album  Year  Song  \\\n",
       "0     NaN                         Work And Non Work (1997)   NaN   NaN   \n",
       "1     NaN                  The Noise Made by People (2000)   NaN   NaN   \n",
       "2     NaN                                Haha Sound (2003)   NaN   NaN   \n",
       "3     NaN                            Tender Buttons (2005)   NaN   NaN   \n",
       "4     NaN                         The Future Crayon (2006)   NaN   NaN   \n",
       "5     NaN  Investigate Witch Cults of the Radio Age (2009)   NaN   NaN   \n",
       "\n",
       "   Rhyme Ratio  \n",
       "0          NaN  \n",
       "1          NaN  \n",
       "2          NaN  \n",
       "3          NaN  \n",
       "4          NaN  \n",
       "5          NaN  "
      ]
     },
     "execution_count": 106,
     "metadata": {},
     "output_type": "execute_result"
    }
   ],
   "source": [
    "df"
   ]
  },
  {
   "cell_type": "code",
   "execution_count": 8,
   "metadata": {
    "scrolled": false
   },
   "outputs": [
    {
     "name": "stdout",
     "output_type": "stream",
     "text": [
      "[['Thank', 'you', 'for', 'the', 'days'], ['Those', 'endless', 'days', 'those', 'sacred', 'days', 'you', 'gave', 'me'], [\"I'm\", 'thinking', 'of', 'the', 'days'], ['I', \"won't\", 'forget', 'a', 'single', 'day', 'believe', 'me'], ['I', 'bless', 'the', 'light'], ['I', 'bless', 'the', 'light', 'that', 'lights', 'on', 'you', 'believe', 'me'], ['And', 'though', \"you're\", 'gone'], [\"You're\", 'with', 'me', 'every', 'single', 'day', 'believe', 'me'], ['Days', \"I'll\", 'remember', 'all', 'my', 'life'], ['Days', 'when', 'you', \"can't\", 'see', 'wrong', 'from', 'right'], ['You', 'took', 'my', 'life'], ['But', 'then', 'I', 'knew', 'that', 'very', 'soon', 'youed', 'leave', 'me'], ['But', \"it's\", 'alright'], ['Now', \"I'm\", 'not', 'frightened', 'of', 'this', 'world', 'believe', 'me'], ['I', 'wish', 'today', 'could', 'be', 'tomorrow'], ['The', 'night', 'is', 'dark'], ['It', 'just', 'brings', 'sorrow', 'let', 'it', 'wait'], ['Thank', 'you', 'for', 'the', 'days'], ['Those', 'endless', 'days', 'those', 'sacred', 'days', 'you', 'gave', 'me'], [\"I'm\", 'thinking', 'of', 'the', 'days'], ['I', \"won't\", 'forget', 'a', 'single', 'day', 'believe', 'me'], ['Days', \"I'll\", 'remember', 'all', 'my', 'life'], ['Days', 'when', 'you', \"can't\", 'see', 'wrong', 'from', 'right'], ['You', 'took', 'my', 'life'], ['But', 'then', 'I', 'knew', 'that', 'very', 'soon', 'youed', 'leave', 'me'], ['But', \"it's\", 'alright'], ['Now', \"I'm\", 'not', 'frightened', 'of', 'this', 'world', 'believe', 'me'], ['Days'], ['Thank', 'you', 'for', 'the', 'days'], ['Those', 'endless', 'days', 'those', 'sacred', 'days', 'you', 'gave', 'me'], [\"I'm\", 'thinking', 'of', 'the', 'days'], ['I', \"won't\", 'forget', 'a', 'single', 'day', 'believe', 'me'], ['I', 'bless', 'the', 'light'], ['I', 'bless', 'the', 'light', 'that', 'shines', 'on', 'you', 'believe', 'me'], ['And', 'though', \"you're\", 'gone'], [\"You're\", 'with', 'me', 'every', 'single', 'day', 'believe', 'me'], ['Days']]\n"
     ]
    }
   ],
   "source": [
    "poem = pt.tokenize(pl.get_song_lyrics('the kinks', 'days'))\n",
    "print(poem)"
   ]
  },
  {
   "cell_type": "code",
   "execution_count": 5,
   "metadata": {
    "collapsed": true
   },
   "outputs": [],
   "source": [
    "def get_rhyme_ratio(poem):\n",
    "    \"\"\"Get the ratio of rhymes to total lines (total unique ending phonemes divided by total number of lines). The bigger the number the more diverse the rhymescheme\"\"\"\n",
    "    total_rhyme = pt.rhyme_scheme(poem)\n",
    "    while ' ' in total_rhyme: total_rhyme.remove(' ')\n",
    "    unique_rhyme = set(total_rhyme)\n",
    "    rhyme_ratio = len(unique_rhyme) / len(total_rhyme)\n",
    "    return rhyme_ratio"
   ]
  },
  {
   "cell_type": "code",
   "execution_count": 9,
   "metadata": {},
   "outputs": [
    {
     "data": {
      "text/plain": [
       "0.2702702702702703"
      ]
     },
     "execution_count": 9,
     "metadata": {},
     "output_type": "execute_result"
    }
   ],
   "source": [
    "get_rhyme_ratio(poem)"
   ]
  },
  {
   "cell_type": "code",
   "execution_count": 24,
   "metadata": {
    "collapsed": true
   },
   "outputs": [],
   "source": [
    "def avg_stanza_length(poem):\n",
    "    \"\"\"Get the average length of a stanza in a poem.\"\"\"\n",
    "    total_stanza = pt.stanza_lengths(poem)\n",
    "    total_stanza = total_stanza.split(',')\n",
    "    total_stanza = list(map(int, total_stanza))\n",
    "    print(total_stanza)\n",
    "    avg_stanza = sum(total_stanza) / len(total_stanza)\n",
    "    return avg_stanza"
   ]
  },
  {
   "cell_type": "code",
   "execution_count": 25,
   "metadata": {},
   "outputs": [
    {
     "name": "stdout",
     "output_type": "stream",
     "text": [
      "[37]\n"
     ]
    },
    {
     "data": {
      "text/plain": [
       "37.0"
      ]
     },
     "execution_count": 25,
     "metadata": {},
     "output_type": "execute_result"
    }
   ],
   "source": [
    "avg_stanza_length(poem)"
   ]
  },
  {
   "cell_type": "code",
   "execution_count": 11,
   "metadata": {},
   "outputs": [
    {
     "data": {
      "text/plain": [
       "[['1', '1', '1', '0', '1'],\n",
       " ['1', '10', '1', '1', '10', '1', '1', '1', '1'],\n",
       " ['0', '10', '0', '0', '1'],\n",
       " ['1', '1', '01', '0', '10', '1', '01', '1'],\n",
       " ['1', '1', '0', '1'],\n",
       " ['1', '1', '0', '1', '1', '1', '1', '1', '01', '1'],\n",
       " ['1', '1', '1', '1'],\n",
       " ['1', '0', '1', '100', '10', '1', '01', '1'],\n",
       " ['1', '1', '010', '1', '1', '1'],\n",
       " ['1', '1', '1', '1', '1', '1', '0', '1'],\n",
       " ['1', '1', '1', '1'],\n",
       " ['1', '1', '1', '1', '1', '10', '1', '1', '1', '1'],\n",
       " ['1', '0', '11'],\n",
       " ['1', '0', '1', '10', '0', '0', '1', '01', '1'],\n",
       " ['1', '1', '01', '1', '0', '011'],\n",
       " ['0', '1', '0', '1'],\n",
       " ['0', '1', '1', '10', '1', '0', '1'],\n",
       " ['1', '1', '1', '0', '1'],\n",
       " ['1', '10', '1', '1', '10', '1', '1', '1', '1'],\n",
       " ['0', '10', '0', '0', '1'],\n",
       " ['1', '1', '01', '0', '10', '1', '01', '1'],\n",
       " ['1', '1', '010', '1', '1', '1'],\n",
       " ['1', '1', '1', '1', '1', '1', '0', '1'],\n",
       " ['1', '1', '1', '1'],\n",
       " ['1', '1', '1', '1', '1', '10', '1', '1', '1', '1'],\n",
       " ['1', '0', '11'],\n",
       " ['1', '0', '1', '10', '0', '0', '1', '01', '1'],\n",
       " ['1'],\n",
       " ['1', '1', '1', '0', '1'],\n",
       " ['1', '10', '1', '1', '10', '1', '1', '1', '1'],\n",
       " ['0', '10', '0', '0', '1'],\n",
       " ['1', '1', '01', '0', '10', '1', '01', '1'],\n",
       " ['1', '1', '0', '1'],\n",
       " ['1', '1', '0', '1', '1', '1', '1', '1', '01', '1'],\n",
       " ['1', '1', '1', '1'],\n",
       " ['1', '0', '1', '100', '10', '1', '01', '1'],\n",
       " ['1']]"
      ]
     },
     "execution_count": 11,
     "metadata": {},
     "output_type": "execute_result"
    }
   ],
   "source": [
    "pt.scanscion(poem)"
   ]
  },
  {
   "cell_type": "code",
   "execution_count": 12,
   "metadata": {},
   "outputs": [
    {
     "name": "stdout",
     "output_type": "stream",
     "text": [
      "Metre: 11101 11011101111 010001 11010101011 1101 11011111011 1111 101100101011 11010111 11111101 1111 11111101111 1011 10110001011 110110011 0101 01110101 11101 11011101111 010001 11010101011 11010111 11111101 1111 11111101111 1011 10110001011 1 11101 11011101111 010001 11010101011 1101 11011111011 1111 101100101011 1\n",
      "Rhyme scheme: ababCbDbecebcbXXcABabEcebcbaABabCbDba\n",
      "Stanza lengths: 37\n",
      "\n",
      "Closest metre: iambic trimeter\n",
      "Closest rhyme: rondeau rhyme\n",
      "Closest stanza type: tercets\n",
      "Guessed form: "
     ]
    },
    {
     "data": {
      "text/plain": [
       "'unknown form'"
      ]
     },
     "execution_count": 12,
     "metadata": {},
     "output_type": "execute_result"
    }
   ],
   "source": [
    "pt.guess_form(poem, verbose=True)"
   ]
  },
  {
   "cell_type": "code",
   "execution_count": null,
   "metadata": {
    "collapsed": true
   },
   "outputs": [],
   "source": []
  }
 ],
 "metadata": {
  "kernelspec": {
   "display_name": "Python 3",
   "language": "python",
   "name": "python3"
  },
  "language_info": {
   "codemirror_mode": {
    "name": "ipython",
    "version": 3
   },
   "file_extension": ".py",
   "mimetype": "text/x-python",
   "name": "python",
   "nbconvert_exporter": "python",
   "pygments_lexer": "ipython3",
   "version": "3.6.3"
  }
 },
 "nbformat": 4,
 "nbformat_minor": 2
}
